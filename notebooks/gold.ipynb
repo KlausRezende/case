{
 "cells": [
  {
   "cell_type": "code",
   "execution_count": 1,
   "metadata": {},
   "outputs": [],
   "source": [
    "import sys\n",
    "from pyspark.sql import SparkSession\n",
    "from pyspark.sql.functions import *\n",
    "from pyspark.sql.window import *\n",
    "from datetime import date, timedelta"
   ]
  },
  {
   "cell_type": "code",
   "execution_count": 2,
   "metadata": {},
   "outputs": [
    {
     "name": "stderr",
     "output_type": "stream",
     "text": [
      "Setting default log level to \"WARN\".\n",
      "To adjust logging level use sc.setLogLevel(newLevel). For SparkR, use setLogLevel(newLevel).\n",
      "24/10/18 23:48:08 WARN NativeCodeLoader: Unable to load native-hadoop library for your platform... using builtin-java classes where applicable\n"
     ]
    }
   ],
   "source": [
    "spark = SparkSession \\\n",
    "    .builder \\\n",
    "    .appName(\"klaus_session\") \\\n",
    "    .getOrCreate()"
   ]
  },
  {
   "cell_type": "code",
   "execution_count": 20,
   "metadata": {},
   "outputs": [],
   "source": [
    "df = spark.read.parquet(\"/opt/airflow/silver_layer/\")"
   ]
  },
  {
   "cell_type": "code",
   "execution_count": 21,
   "metadata": {},
   "outputs": [
    {
     "name": "stdout",
     "output_type": "stream",
     "text": [
      "-RECORD 0-----------------------------------\n",
      " id_brewery          | 6d14b220-8926-452... \n",
      " name_brewery        | 10 Barrel Brewing Co \n",
      " brewery_type        | large                \n",
      " phone_brewery       | 5415851007           \n",
      " name_country        | United States        \n",
      " name_state_province | Oregon               \n",
      " name_city           | Bend                 \n",
      " postal_code_brewery | 97701-9847           \n",
      " latitude_brewery    | 44.08683531          \n",
      " longitude_brewery   | -121.281706          \n",
      " name_address_1      | 62970 18th St        \n",
      " name_address_2      | NULL                 \n",
      " name_address_3      | NULL                 \n",
      " updated_at          | 2024-10-18 23:46:49  \n",
      " name_state          | Oregon               \n",
      "only showing top 1 row\n",
      "\n"
     ]
    }
   ],
   "source": [
    "df.show(1,vertical=True)"
   ]
  },
  {
   "cell_type": "code",
   "execution_count": 22,
   "metadata": {},
   "outputs": [],
   "source": [
    "df = df.withColumn('index',row_number().over(Window.partitionBy(col(\"id_brewery\")).orderBy(col(\"updated_at\").desc())))\n",
    "df = df.filter(df.index == 1) \n",
    "df = df.drop(\"index\")"
   ]
  },
  {
   "cell_type": "code",
   "execution_count": 29,
   "metadata": {},
   "outputs": [],
   "source": [
    "df_gold = df.groupBy(df.name_state, df.brewery_type).count()\n",
    "df_gold = df_gold.withColumnRenamed(\"count\", \"breweries_quantity\")"
   ]
  },
  {
   "cell_type": "code",
   "execution_count": 30,
   "metadata": {},
   "outputs": [
    {
     "name": "stdout",
     "output_type": "stream",
     "text": [
      "+-------------+------------+------------------+\n",
      "|   name_state|brewery_type|breweries_quantity|\n",
      "+-------------+------------+------------------+\n",
      "|       Oregon|       large|                 4|\n",
      "|    Minnesota|       micro|                 3|\n",
      "|      Indiana|       micro|                 3|\n",
      "|      Arizona|       micro|                 3|\n",
      "|   California|       micro|                 2|\n",
      "|        Texas|       micro|                 2|\n",
      "|       Oregon|     brewpub|                 2|\n",
      "|    Wisconsin|       micro|                 2|\n",
      "|     New York|     brewpub|                 2|\n",
      "|         Iowa|       micro|                 1|\n",
      "|     Virginia|       micro|                 1|\n",
      "|   California|       large|                 1|\n",
      "|     Colorado|     brewpub|                 1|\n",
      "|       Nevada|       micro|                 1|\n",
      "|     Michigan|       micro|                 1|\n",
      "|      Vermont|       micro|                 1|\n",
      "|     Delaware|       micro|                 1|\n",
      "|        Laois|       micro|                 1|\n",
      "|   Washington|      closed|                 1|\n",
      "|Massachusetts|       micro|                 1|\n",
      "+-------------+------------+------------------+\n",
      "only showing top 20 rows\n",
      "\n"
     ]
    }
   ],
   "source": [
    "df_gold.orderBy('count', ascending=False).show()\n"
   ]
  },
  {
   "cell_type": "code",
   "execution_count": 32,
   "metadata": {},
   "outputs": [],
   "source": [
    "#Writing DataFrame\n",
    "df_gold.write \\\n",
    ".format(\"parquet\") \\\n",
    ".mode(\"append\") \\\n",
    ".option(\"mergeSchema\", \"true\") \\\n",
    ".save(f'/opt/airflow/gold_layer/')"
   ]
  }
 ],
 "metadata": {
  "kernelspec": {
   "display_name": "Python 3 (ipykernel)",
   "language": "python",
   "name": "python3"
  }
 },
 "nbformat": 4,
 "nbformat_minor": 2
}
