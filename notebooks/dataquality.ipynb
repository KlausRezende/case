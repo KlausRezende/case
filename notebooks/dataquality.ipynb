{
 "cells": [
  {
   "cell_type": "code",
   "execution_count": 1,
   "metadata": {},
   "outputs": [],
   "source": [
    "import great_expectations as gx\n",
    "from pyspark.sql import SparkSession\n",
    "from pyspark.sql.functions import *\n",
    "import os"
   ]
  },
  {
   "cell_type": "code",
   "execution_count": 2,
   "metadata": {},
   "outputs": [
    {
     "name": "stderr",
     "output_type": "stream",
     "text": [
      "Setting default log level to \"WARN\".\n",
      "To adjust logging level use sc.setLogLevel(newLevel). For SparkR, use setLogLevel(newLevel).\n",
      "24/10/19 15:02:09 WARN NativeCodeLoader: Unable to load native-hadoop library for your platform... using builtin-java classes where applicable\n"
     ]
    }
   ],
   "source": [
    "context = gx.get_context()\n",
    "\n",
    "spark = SparkSession \\\n",
    "    .builder \\\n",
    "    .appName(\"klaus_session\") \\\n",
    "    .getOrCreate()"
   ]
  },
  {
   "cell_type": "code",
   "execution_count": 3,
   "metadata": {},
   "outputs": [],
   "source": [
    "df = spark.read.parquet(\"/opt/airflow/silver/\")"
   ]
  },
  {
   "cell_type": "code",
   "execution_count": 4,
   "metadata": {},
   "outputs": [],
   "source": [
    "dataframe_datasource = context.sources.add_or_update_spark(\n",
    "    name=\"spark_memory\"\n",
    ")"
   ]
  },
  {
   "cell_type": "code",
   "execution_count": 5,
   "metadata": {},
   "outputs": [],
   "source": [
    "data_asset = dataframe_datasource.add_dataframe_asset(name=\"dq_test\", dataframe=df)"
   ]
  },
  {
   "cell_type": "code",
   "execution_count": 6,
   "metadata": {},
   "outputs": [],
   "source": [
    "my_batch_request = data_asset.build_batch_request()"
   ]
  },
  {
   "cell_type": "code",
   "execution_count": 7,
   "metadata": {},
   "outputs": [
    {
     "data": {
      "text/plain": [
       "{\n",
       "  \"expectations\": [],\n",
       "  \"meta\": {\n",
       "    \"great_expectations_version\": \"0.18.18\"\n",
       "  },\n",
       "  \"data_asset_type\": null,\n",
       "  \"ge_cloud_id\": null,\n",
       "  \"expectation_suite_name\": \"data_quality_expectations\"\n",
       "}"
      ]
     },
     "execution_count": 7,
     "metadata": {},
     "output_type": "execute_result"
    }
   ],
   "source": [
    "expectation_name = \"data_quality_expectations\"\n",
    "context.add_or_update_expectation_suite(expectation_suite_name=expectation_name)"
   ]
  },
  {
   "cell_type": "code",
   "execution_count": 8,
   "metadata": {},
   "outputs": [],
   "source": [
    "validator = context.get_validator(\n",
    "    batch_request=my_batch_request,\n",
    "    expectation_suite_name=expectation_name\n",
    ")"
   ]
  },
  {
   "cell_type": "code",
   "execution_count": 9,
   "metadata": {},
   "outputs": [],
   "source": [
    "columns_to_check_null = [\n",
    "    'id_brewery'\n",
    "]"
   ]
  },
  {
   "cell_type": "code",
   "execution_count": 11,
   "metadata": {},
   "outputs": [
    {
     "data": {
      "application/vnd.jupyter.widget-view+json": {
       "model_id": "9f042fd361c0440c959073a1d36968eb",
       "version_major": 2,
       "version_minor": 0
      },
      "text/plain": [
       "Calculating Metrics:   0%|          | 0/8 [00:00<?, ?it/s]"
      ]
     },
     "metadata": {},
     "output_type": "display_data"
    },
    {
     "name": "stderr",
     "output_type": "stream",
     "text": [
      "                                                                                \r"
     ]
    },
    {
     "data": {
      "application/vnd.jupyter.widget-view+json": {
       "model_id": "c1357fe16a854a9bb317293b0ce24932",
       "version_major": 2,
       "version_minor": 0
      },
      "text/plain": [
       "Calculating Metrics:   0%|          | 0/12 [00:00<?, ?it/s]"
      ]
     },
     "metadata": {},
     "output_type": "display_data"
    },
    {
     "data": {
      "application/vnd.jupyter.widget-view+json": {
       "model_id": "8d8bcb8d18b34309bf7c2161156e25ba",
       "version_major": 2,
       "version_minor": 0
      },
      "text/plain": [
       "Calculating Metrics:   0%|          | 0/11 [00:00<?, ?it/s]"
      ]
     },
     "metadata": {},
     "output_type": "display_data"
    },
    {
     "data": {
      "application/vnd.jupyter.widget-view+json": {
       "model_id": "dd360e2901e24946990fee7a45a9a043",
       "version_major": 2,
       "version_minor": 0
      },
      "text/plain": [
       "Calculating Metrics:   0%|          | 0/11 [00:00<?, ?it/s]"
      ]
     },
     "metadata": {},
     "output_type": "display_data"
    },
    {
     "data": {
      "application/vnd.jupyter.widget-view+json": {
       "model_id": "325bcc4fc9844c4284e2653d7e31b593",
       "version_major": 2,
       "version_minor": 0
      },
      "text/plain": [
       "Calculating Metrics:   0%|          | 0/12 [00:00<?, ?it/s]"
      ]
     },
     "metadata": {},
     "output_type": "display_data"
    },
    {
     "data": {
      "application/vnd.jupyter.widget-view+json": {
       "model_id": "07aa285038ef4c7bb3bd35f998795633",
       "version_major": 2,
       "version_minor": 0
      },
      "text/plain": [
       "Calculating Metrics:   0%|          | 0/38 [00:00<?, ?it/s]"
      ]
     },
     "metadata": {},
     "output_type": "display_data"
    },
    {
     "name": "stdout",
     "output_type": "stream",
     "text": [
      "Percentual de validações bem-sucedidas: 60.00%\n",
      "Resultados salvos em: /opt/airflow/notebooks/validation_results.txt\n"
     ]
    }
   ],
   "source": [
    "output_dir = \"/opt/airflow/notebooks/\"\n",
    "output_file = os.path.join(output_dir, \"validation_results.txt\")\n",
    "\n",
    "os.makedirs(output_dir, exist_ok=True)\n",
    "\n",
    "successful_validations = 0\n",
    "\n",
    "with open(output_file, 'w') as f:\n",
    "\n",
    "    for column in columns_to_check_null:\n",
    "        validator.expect_column_values_to_not_be_null(column=column)\n",
    "\n",
    "    # Valida se a coluna 'phone_brewery' tem exatamente 11 dígitos (formato padrão)\n",
    "    validator.expect_column_value_lengths_to_equal(column=\"phone_brewery\", value=11)\n",
    "\n",
    "    # Valida se 'latitude_brewery' e 'longitude_brewery' têm valores dentro de uma faixa razoável\n",
    "    validator.expect_column_values_to_be_between(column=\"latitude_brewery\", min_value=-90.0, max_value=90.0)\n",
    "    validator.expect_column_values_to_be_between(column=\"longitude_brewery\", min_value=-180.0, max_value=180.0)\n",
    "\n",
    "    # Valida se 'postal_code_brewery' tem o formato esperado (entre 5 e 9 dígitos)\n",
    "    validator.expect_column_value_lengths_to_be_between(column=\"postal_code_brewery\", min_value=5, max_value=9)\n",
    "\n",
    "    # Executa as validações e armazena os resultados\n",
    "    results = validator.validate()\n",
    "    total_validations = len(results['results'])\n",
    "\n",
    "    # Exibe o resultado de cada Expectation separadamente\n",
    "    for result in results['results']:\n",
    "        expectation_type = result['expectation_config']['expectation_type']\n",
    "        column = result['expectation_config']['kwargs'].get('column', 'N/A')\n",
    "        success = result['success']\n",
    "        \n",
    "        if success:\n",
    "            successful_validations += 1\n",
    "            \n",
    "        # Formata o resultado\n",
    "        output = f\"Expectativa: {expectation_type} | Coluna: {column} | Sucesso: {success}\\n\"\n",
    "        f.write(output)  # Escreve no arquivo\n",
    "        \n",
    "        # Se falhar, imprime detalhes adicionais\n",
    "        if not success:\n",
    "            failure_details = f\"Detalhes da falha: {result['result']}\\n\"\n",
    "            f.write(failure_details)\n",
    "        \n",
    "        # Separador\n",
    "        f.write('-' * 60 + '\\n')\n",
    "\n",
    "# Calcula o percentual de sucesso\n",
    "    success_percentage = (successful_validations / total_validations) * 100\n",
    "\n",
    "    # Escreve o percentual de sucesso no arquivo\n",
    "    f.write(f\"Percentual de validações bem-sucedidas: {success_percentage:.2f}%\\n\")\n",
    "\n",
    "# Exibe o percentual no console\n",
    "print(f\"Percentual de validações bem-sucedidas: {success_percentage:.2f}%\")\n",
    "print(f\"Resultados salvos em: {output_file}\")"
   ]
  },
  {
   "cell_type": "code",
   "execution_count": null,
   "metadata": {},
   "outputs": [],
   "source": []
  }
 ],
 "metadata": {
  "kernelspec": {
   "display_name": "Python 3 (ipykernel)",
   "language": "python",
   "name": "python3"
  },
  "language_info": {
   "codemirror_mode": {
    "name": "ipython",
    "version": 3
   },
   "file_extension": ".py",
   "mimetype": "text/x-python",
   "name": "python",
   "nbconvert_exporter": "python",
   "pygments_lexer": "ipython3",
   "version": "3.9.20"
  }
 },
 "nbformat": 4,
 "nbformat_minor": 2
}
