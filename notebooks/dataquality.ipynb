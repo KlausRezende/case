{
 "cells": [
  {
   "cell_type": "code",
   "execution_count": 1,
   "metadata": {},
   "outputs": [],
   "source": [
    "import great_expectations as gx\n",
    "from pyspark.sql import SparkSession\n",
    "from pyspark.sql.functions import *\n",
    "import os\n",
    "import json"
   ]
  },
  {
   "cell_type": "code",
   "execution_count": 2,
   "metadata": {},
   "outputs": [
    {
     "name": "stderr",
     "output_type": "stream",
     "text": [
      "Setting default log level to \"WARN\".\n",
      "To adjust logging level use sc.setLogLevel(newLevel). For SparkR, use setLogLevel(newLevel).\n",
      "24/10/20 18:12:46 WARN NativeCodeLoader: Unable to load native-hadoop library for your platform... using builtin-java classes where applicable\n",
      "24/10/20 18:12:48 WARN Utils: Service 'SparkUI' could not bind on port 4040. Attempting port 4041.\n",
      "24/10/20 18:12:48 WARN Utils: Service 'SparkUI' could not bind on port 4041. Attempting port 4042.\n"
     ]
    }
   ],
   "source": [
    "context = gx.get_context()\n",
    "\n",
    "spark = SparkSession \\\n",
    "    .builder \\\n",
    "    .appName(\"klaus_session\") \\\n",
    "    .getOrCreate()"
   ]
  },
  {
   "cell_type": "code",
   "execution_count": 3,
   "metadata": {},
   "outputs": [
    {
     "name": "stderr",
     "output_type": "stream",
     "text": [
      "                                                                                \r"
     ]
    }
   ],
   "source": [
    "df = spark.read.parquet(\"/opt/airflow/silver_layer/\")"
   ]
  },
  {
   "cell_type": "code",
   "execution_count": 4,
   "metadata": {},
   "outputs": [],
   "source": [
    "dataframe_datasource = context.sources.add_or_update_spark(\n",
    "    name=\"spark_memory\"\n",
    ")"
   ]
  },
  {
   "cell_type": "code",
   "execution_count": 5,
   "metadata": {},
   "outputs": [],
   "source": [
    "data_asset = dataframe_datasource.add_dataframe_asset(name=\"df_asset\", dataframe=df)"
   ]
  },
  {
   "cell_type": "code",
   "execution_count": 6,
   "metadata": {},
   "outputs": [],
   "source": [
    "my_batch_request = data_asset.build_batch_request()"
   ]
  },
  {
   "cell_type": "code",
   "execution_count": 7,
   "metadata": {},
   "outputs": [
    {
     "data": {
      "text/plain": [
       "{\n",
       "  \"data_asset_type\": null,\n",
       "  \"expectation_suite_name\": \"data_quality_expectations\",\n",
       "  \"ge_cloud_id\": null,\n",
       "  \"meta\": {\n",
       "    \"great_expectations_version\": \"0.18.18\"\n",
       "  },\n",
       "  \"expectations\": []\n",
       "}"
      ]
     },
     "execution_count": 7,
     "metadata": {},
     "output_type": "execute_result"
    }
   ],
   "source": [
    "expectation_name = \"data_quality_expectations\"\n",
    "context.add_or_update_expectation_suite(expectation_suite_name=expectation_name)"
   ]
  },
  {
   "cell_type": "code",
   "execution_count": 8,
   "metadata": {},
   "outputs": [],
   "source": [
    "validator = context.get_validator(\n",
    "    batch_request=my_batch_request,\n",
    "    expectation_suite_name=expectation_name\n",
    ")"
   ]
  },
  {
   "cell_type": "code",
   "execution_count": 9,
   "metadata": {},
   "outputs": [],
   "source": [
    "columns_to_check_null = [\n",
    "    'id_brewery'\n",
    "]"
   ]
  },
  {
   "cell_type": "code",
   "execution_count": 11,
   "metadata": {},
   "outputs": [
    {
     "data": {
      "application/vnd.jupyter.widget-view+json": {
       "model_id": "193a72c1b8d14f46a4f3051ef7d02a81",
       "version_major": 2,
       "version_minor": 0
      },
      "text/plain": [
       "Calculating Metrics:   0%|          | 0/8 [00:00<?, ?it/s]"
      ]
     },
     "metadata": {},
     "output_type": "display_data"
    },
    {
     "data": {
      "application/vnd.jupyter.widget-view+json": {
       "model_id": "9c5bf889d1e14a688853b1b967b1e7b5",
       "version_major": 2,
       "version_minor": 0
      },
      "text/plain": [
       "Calculating Metrics:   0%|          | 0/10 [00:00<?, ?it/s]"
      ]
     },
     "metadata": {},
     "output_type": "display_data"
    },
    {
     "data": {
      "application/vnd.jupyter.widget-view+json": {
       "model_id": "8ceaade857174b08964f3e92dd8b3a79",
       "version_major": 2,
       "version_minor": 0
      },
      "text/plain": [
       "Calculating Metrics:   0%|          | 0/12 [00:00<?, ?it/s]"
      ]
     },
     "metadata": {},
     "output_type": "display_data"
    },
    {
     "data": {
      "application/vnd.jupyter.widget-view+json": {
       "model_id": "262e665e6ff740959c37e86756f60c08",
       "version_major": 2,
       "version_minor": 0
      },
      "text/plain": [
       "Calculating Metrics:   0%|          | 0/11 [00:00<?, ?it/s]"
      ]
     },
     "metadata": {},
     "output_type": "display_data"
    },
    {
     "data": {
      "application/vnd.jupyter.widget-view+json": {
       "model_id": "8abcec22c01f4ecb9eaf6bcc5c8ef78f",
       "version_major": 2,
       "version_minor": 0
      },
      "text/plain": [
       "Calculating Metrics:   0%|          | 0/12 [00:00<?, ?it/s]"
      ]
     },
     "metadata": {},
     "output_type": "display_data"
    },
    {
     "data": {
      "application/vnd.jupyter.widget-view+json": {
       "model_id": "7a013e1314e145b3acc121727cea5c8e",
       "version_major": 2,
       "version_minor": 0
      },
      "text/plain": [
       "Calculating Metrics:   0%|          | 0/34 [00:00<?, ?it/s]"
      ]
     },
     "metadata": {},
     "output_type": "display_data"
    }
   ],
   "source": [
    "output_dir = \"/opt/airflow/scripts/\"\n",
    "output_file = os.path.join(output_dir, \"validation_results.txt\")\n",
    "\n",
    "os.makedirs(output_dir, exist_ok=True)\n",
    "\n",
    "successful_validations = 0\n",
    "with open(output_file, 'w') as f:\n",
    "\n",
    "    validator.expect_column_values_to_not_be_null(column=\"id_brewery\")\n",
    "\n",
    "    validator.expect_column_values_to_be_unique(column=\"id_brewery\")\n",
    "\n",
    "    validator.expect_column_value_lengths_to_equal(column=\"phone_brewery\", value=11)\n",
    "\n",
    "    validator.expect_column_values_to_be_between(column=\"latitude_brewery\", min_value=-90.0, max_value=90.0)\n",
    "\n",
    "    validator.expect_column_value_lengths_to_be_between(column=\"postal_code_brewery\", min_value=5, max_value=10)\n",
    "\n",
    "    results = validator.validate()\n",
    "    total_validations = len(results['results'])\n",
    "\n",
    "    for result in results['results']:\n",
    "        expectation_type = result['expectation_config']['expectation_type']\n",
    "        column = result['expectation_config']['kwargs'].get('column', 'N/A')\n",
    "        success = result['success']\n",
    "        \n",
    "        if success:\n",
    "            successful_validations += 1\n",
    "            \n",
    "        output = f\"Expectativa: {expectation_type} | Coluna: {column} | Sucesso: {success}\\n\"\n",
    "        f.write(output)  \n",
    "        \n",
    "        if not success:\n",
    "            #failure_details = f\"Detalhes da falha: {result['result']}\\n\"\n",
    "            failure_details = f\"Detalhes da falha: {result}\\n\"\n",
    "\n",
    "            f.write(failure_details)\n",
    "        \n",
    "        f.write('-' * 60 + '\\n')\n",
    "\n",
    "    success_percentage = (successful_validations / total_validations) * 100\n",
    "\n",
    "    f.write(f\"Percentual de validações bem-sucedidas: {success_percentage:.2f}%\\n\")"
   ]
  },
  {
   "cell_type": "code",
   "execution_count": null,
   "metadata": {},
   "outputs": [],
   "source": []
  }
 ],
 "metadata": {
  "kernelspec": {
   "display_name": "Python 3 (ipykernel)",
   "language": "python",
   "name": "python3"
  }
 },
 "nbformat": 4,
 "nbformat_minor": 2
}
