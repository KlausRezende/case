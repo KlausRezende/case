{
 "cells": [
  {
   "cell_type": "code",
   "execution_count": 1,
   "metadata": {},
   "outputs": [],
   "source": [
    "import sys\n",
    "from pyspark.sql import S\n",
    "from pyspark.sql.functions import *\n",
    "from datetime import date, timedelta"
   ]
  },
  {
   "cell_type": "code",
   "execution_count": 2,
   "metadata": {},
   "outputs": [
    {
     "name": "stderr",
     "output_type": "stream",
     "text": [
      "Setting default log level to \"WARN\".\n",
      "To adjust logging level use sc.setLogLevel(newLevel). For SparkR, use setLogLevel(newLevel).\n",
      "24/10/19 03:33:26 WARN NativeCodeLoader: Unable to load native-hadoop library for your platform... using builtin-java classes where applicable\n",
      "24/10/19 03:33:27 WARN Utils: Service 'SparkUI' could not bind on port 4040. Attempting port 4041.\n"
     ]
    }
   ],
   "source": [
    "spark = SparkSession \\\n",
    "    .builder \\\n",
    "    .appName(\"klaus_session\") \\\n",
    "    .getOrCreate()"
   ]
  },
  {
   "cell_type": "code",
   "execution_count": 15,
   "metadata": {},
   "outputs": [],
   "source": [
    "df_silver = spark.read.json(\"/opt/airflow/bronze\",multiLine=True)"
   ]
  },
  {
   "cell_type": "code",
   "execution_count": 16,
   "metadata": {},
   "outputs": [
    {
     "name": "stdout",
     "output_type": "stream",
     "text": [
      "Dataframe has data, processing...\n"
     ]
    }
   ],
   "source": [
    "record_count = df_silver.count()\n",
    "\n",
    "if record_count > 0:\n",
    "    print(\"Dataframe has data, processing...\")\n",
    "else:\n",
    "    message = \"Dataframe is empty, notifying data engineering team...\"\n",
    "    notification_discord(message)\n",
    "    sys.exit()"
   ]
  },
  {
   "cell_type": "code",
   "execution_count": 17,
   "metadata": {},
   "outputs": [
    {
     "name": "stdout",
     "output_type": "stream",
     "text": [
      "-RECORD 0------------------------------\n",
      " address_1      | 1716 Topeka St       \n",
      " address_2      | NULL                 \n",
      " address_3      | NULL                 \n",
      " brewery_type   | micro                \n",
      " city           | Norman               \n",
      " country        | United States        \n",
      " id             | 5128df48-79fc-4f0... \n",
      " latitude       | 35.25738891          \n",
      " longitude      | -97.46818222         \n",
      " name           | (405) Brewing Co     \n",
      " phone          | 4058160490           \n",
      " postal_code    | 73069-8224           \n",
      " state          | Oklahoma             \n",
      " state_province | Oklahoma             \n",
      " street         | 1716 Topeka St       \n",
      " website_url    | http://www.405bre... \n",
      "-RECORD 1------------------------------\n",
      " address_1      | 407 Radam Ln Ste ... \n",
      " address_2      | NULL                 \n",
      " address_3      | NULL                 \n",
      " brewery_type   | micro                \n",
      " city           | Austin               \n",
      " country        | United States        \n",
      " id             | 9c5a66c8-cc13-416... \n",
      " latitude       | NULL                 \n",
      " longitude      | NULL                 \n",
      " name           | (512) Brewing Co     \n",
      " phone          | 5129211545           \n",
      " postal_code    | 78745-1197           \n",
      " state          | Texas                \n",
      " state_province | Texas                \n",
      " street         | 407 Radam Ln Ste ... \n",
      " website_url    | http://www.512bre... \n",
      "-RECORD 2------------------------------\n",
      " address_1      | 8100 Washington Ave  \n",
      " address_2      | NULL                 \n",
      " address_3      | NULL                 \n",
      " brewery_type   | micro                \n",
      " city           | Mount Pleasant       \n",
      " country        | United States        \n",
      " id             | 34e8c68b-6146-453... \n",
      " latitude       | 42.72010826899558    \n",
      " longitude      | -87.88336350209435   \n",
      " name           | 1 of Us Brewing C... \n",
      " phone          | 2624847553           \n",
      " postal_code    | 53406-3920           \n",
      " state          | Wisconsin            \n",
      " state_province | Wisconsin            \n",
      " street         | 8100 Washington Ave  \n",
      " website_url    | https://www.1ofus... \n",
      "-RECORD 3------------------------------\n",
      " address_1      | 1501 E St            \n",
      " address_2      | NULL                 \n",
      " address_3      | NULL                 \n",
      " brewery_type   | large                \n",
      " city           | San Diego            \n",
      " country        | United States        \n",
      " id             | ef970757-fe42-416... \n",
      " latitude       | 32.714813            \n",
      " longitude      | -117.129593          \n",
      " name           | 10 Barrel Brewing Co \n",
      " phone          | 6195782311           \n",
      " postal_code    | 92101-6618           \n",
      " state          | California           \n",
      " state_province | California           \n",
      " street         | 1501 E St            \n",
      " website_url    | http://10barrel.com  \n",
      "-RECORD 4------------------------------\n",
      " address_1      | 62970 18th St        \n",
      " address_2      | NULL                 \n",
      " address_3      | NULL                 \n",
      " brewery_type   | large                \n",
      " city           | Bend                 \n",
      " country        | United States        \n",
      " id             | 6d14b220-8926-452... \n",
      " latitude       | 44.08683531          \n",
      " longitude      | -121.281706          \n",
      " name           | 10 Barrel Brewing Co \n",
      " phone          | 5415851007           \n",
      " postal_code    | 97701-9847           \n",
      " state          | Oregon               \n",
      " state_province | Oregon               \n",
      " street         | 62970 18th St        \n",
      " website_url    | http://www.10barr... \n",
      "-RECORD 5------------------------------\n",
      " address_1      | 1135 NW Galveston... \n",
      " address_2      | NULL                 \n",
      " address_3      | NULL                 \n",
      " brewery_type   | large                \n",
      " city           | Bend                 \n",
      " country        | United States        \n",
      " id             | e2e78bd8-80ff-4a6... \n",
      " latitude       | 44.0575649           \n",
      " longitude      | -121.3288021         \n",
      " name           | 10 Barrel Brewing Co \n",
      " phone          | 5415851007           \n",
      " postal_code    | 97703-2465           \n",
      " state          | Oregon               \n",
      " state_province | Oregon               \n",
      " street         | 1135 NW Galveston... \n",
      " website_url    | NULL                 \n",
      "-RECORD 6------------------------------\n",
      " address_1      | 1411 NW Flanders St  \n",
      " address_2      | NULL                 \n",
      " address_3      | NULL                 \n",
      " brewery_type   | large                \n",
      " city           | Portland             \n",
      " country        | United States        \n",
      " id             | e432899b-7f58-455... \n",
      " latitude       | 45.5259786           \n",
      " longitude      | -122.6855056         \n",
      " name           | 10 Barrel Brewing Co \n",
      " phone          | 5032241700           \n",
      " postal_code    | 97209-2620           \n",
      " state          | Oregon               \n",
      " state_province | Oregon               \n",
      " street         | 1411 NW Flanders St  \n",
      " website_url    | http://www.10barr... \n",
      "-RECORD 7------------------------------\n",
      " address_1      | 62950 NE 18th St     \n",
      " address_2      | NULL                 \n",
      " address_3      | NULL                 \n",
      " brewery_type   | large                \n",
      " city           | Bend                 \n",
      " country        | United States        \n",
      " id             | 9f1852da-c312-42d... \n",
      " latitude       | 44.0912109           \n",
      " longitude      | -121.2809536         \n",
      " name           | 10 Barrel Brewing... \n",
      " phone          | 5415851007           \n",
      " postal_code    | 97701                \n",
      " state          | Oregon               \n",
      " state_province | Oregon               \n",
      " street         | 62950 NE 18th St     \n",
      " website_url    | NULL                 \n",
      "-RECORD 8------------------------------\n",
      " address_1      | 826 W Bannock St     \n",
      " address_2      | NULL                 \n",
      " address_3      | NULL                 \n",
      " brewery_type   | large                \n",
      " city           | Boise                \n",
      " country        | United States        \n",
      " id             | ea4f30c0-bce6-416... \n",
      " latitude       | 43.618516            \n",
      " longitude      | -116.202929          \n",
      " name           | 10 Barrel Brewing... \n",
      " phone          | 2083445870           \n",
      " postal_code    | 83702-5857           \n",
      " state          | Idaho                \n",
      " state_province | Idaho                \n",
      " street         | 826 W Bannock St     \n",
      " website_url    | http://www.10barr... \n",
      "-RECORD 9------------------------------\n",
      " address_1      | 2620 Walnut St       \n",
      " address_2      | NULL                 \n",
      " address_3      | NULL                 \n",
      " brewery_type   | large                \n",
      " city           | Denver               \n",
      " country        | United States        \n",
      " id             | 1988eb86-f0a2-467... \n",
      " latitude       | 39.7592508           \n",
      " longitude      | -104.9853655         \n",
      " name           | 10 Barrel Brewing... \n",
      " phone          | 7205738992           \n",
      " postal_code    | 80205-2231           \n",
      " state          | Colorado             \n",
      " state_province | Colorado             \n",
      " street         | 2620 Walnut St       \n",
      " website_url    | NULL                 \n",
      "-RECORD 10-----------------------------\n",
      " address_1      | 490 Mill St          \n",
      " address_2      | NULL                 \n",
      " address_3      | NULL                 \n",
      " brewery_type   | micro                \n",
      " city           | Reno                 \n",
      " country        | United States        \n",
      " id             | 1ecc330f-6275-42a... \n",
      " latitude       | 39.5171702           \n",
      " longitude      | -119.7732015         \n",
      " name           | 10 Torr Distillin... \n",
      " phone          | 7755307014           \n",
      " postal_code    | 89502                \n",
      " state          | Nevada               \n",
      " state_province | Nevada               \n",
      " street         | 490 Mill St          \n",
      " website_url    | http://www.10torr... \n",
      "-RECORD 11-----------------------------\n",
      " address_1      | 400 Brown Cir        \n",
      " address_2      | NULL                 \n",
      " address_3      | NULL                 \n",
      " brewery_type   | micro                \n",
      " city           | Knox                 \n",
      " country        | United States        \n",
      " id             | 7531dbd8-afc9-4b5... \n",
      " latitude       | 41.289715            \n",
      " longitude      | -86.627954           \n",
      " name           | 10-56 Brewing Com... \n",
      " phone          | 6308165790           \n",
      " postal_code    | 46534                \n",
      " state          | Indiana              \n",
      " state_province | Indiana              \n",
      " street         | 400 Brown Cir        \n",
      " website_url    | NULL                 \n",
      "-RECORD 12-----------------------------\n",
      " address_1      | 294793 US Highway... \n",
      " address_2      | NULL                 \n",
      " address_3      | NULL                 \n",
      " brewery_type   | brewpub              \n",
      " city           | Quilcene             \n",
      " country        | United States        \n",
      " id             | 03118499-a3d0-4c2... \n",
      " latitude       | 47.82347577          \n",
      " longitude      | -122.8755823         \n",
      " name           | 101 Brewery          \n",
      " phone          | 3607656485           \n",
      " postal_code    | 98376-9000           \n",
      " state          | Washington           \n",
      " state_province | Washington           \n",
      " street         | 294793 US Highway... \n",
      " website_url    | http://www.101bre... \n",
      "-RECORD 13-----------------------------\n",
      " address_1      | 1304 Scott St Ste D  \n",
      " address_2      | NULL                 \n",
      " address_3      | NULL                 \n",
      " brewery_type   | closed               \n",
      " city           | Petaluma             \n",
      " country        | United States        \n",
      " id             | 5ae467af-66dc-4d7... \n",
      " latitude       | 38.27029381          \n",
      " longitude      | -122.665055          \n",
      " name           | 101 North Brewing... \n",
      " phone          | 7077534934           \n",
      " postal_code    | 94954-7100           \n",
      " state          | California           \n",
      " state_province | California           \n",
      " street         | 1304 Scott St Ste D  \n",
      " website_url    | http://www.101nor... \n",
      "-RECORD 14-----------------------------\n",
      " address_1      | 1043 Park St         \n",
      " address_2      | NULL                 \n",
      " address_3      | NULL                 \n",
      " brewery_type   | micro                \n",
      " city           | Castle Rock          \n",
      " country        | United States        \n",
      " id             | 4ffda196-dd59-44a... \n",
      " latitude       | 39.38269495          \n",
      " longitude      | -104.8667206         \n",
      " name           | 105 West Brewing Co  \n",
      " phone          | 3033257321           \n",
      " postal_code    | 80109-1585           \n",
      " state          | Colorado             \n",
      " state_province | Colorado             \n",
      " street         | 1043 Park St         \n",
      " website_url    | http://www.105wes... \n",
      "-RECORD 15-----------------------------\n",
      " address_1      | 2005 2nd Ave         \n",
      " address_2      | NULL                 \n",
      " address_3      | NULL                 \n",
      " brewery_type   | micro                \n",
      " city           | Anoka                \n",
      " country        | United States        \n",
      " id             | 42aa37d5-8384-4ff... \n",
      " latitude       | 45.19812039          \n",
      " longitude      | -93.38952559         \n",
      " name           | 10K Brewing          \n",
      " phone          | 7633924753           \n",
      " postal_code    | 55303-2243           \n",
      " state          | Minnesota            \n",
      " state_province | Minnesota            \n",
      " street         | 2005 2nd Ave         \n",
      " website_url    | http://10KBrew.com   \n",
      "-RECORD 16-----------------------------\n",
      " address_1      | 491 Washington St    \n",
      " address_2      | NULL                 \n",
      " address_3      | NULL                 \n",
      " brewery_type   | micro                \n",
      " city           | Abington             \n",
      " country        | United States        \n",
      " id             | 232e8f62-9afc-45f... \n",
      " latitude       | 42.10591754          \n",
      " longitude      | -70.94594149         \n",
      " name           | 10th District Bre... \n",
      " phone          | 7813071554           \n",
      " postal_code    | 02351-2419           \n",
      " state          | Massachusetts        \n",
      " state_province | Massachusetts        \n",
      " street         | 491 Washington St    \n",
      " website_url    | http://www.10thdi... \n",
      "-RECORD 17-----------------------------\n",
      " address_1      | 6820 Bourgeois Rd    \n",
      " address_2      | NULL                 \n",
      " address_3      | NULL                 \n",
      " brewery_type   | micro                \n",
      " city           | Houston              \n",
      " country        | United States        \n",
      " id             | 08f78223-24f8-4b7... \n",
      " latitude       | 29.9515464           \n",
      " longitude      | -95.5186591          \n",
      " name           | 11 Below Brewing ... \n",
      " phone          | 2814442337           \n",
      " postal_code    | 77066-3107           \n",
      " state          | Texas                \n",
      " state_province | Texas                \n",
      " street         | 6820 Bourgeois Rd    \n",
      " website_url    | http://www.11belo... \n",
      "-RECORD 18-----------------------------\n",
      " address_1      | 141 E Main St        \n",
      " address_2      | NULL                 \n",
      " address_3      | NULL                 \n",
      " brewery_type   | brewpub              \n",
      " city           | John Day             \n",
      " country        | United States        \n",
      " id             | 58293321-14ae-49d... \n",
      " latitude       | 44.4146563           \n",
      " longitude      | -118.9218754         \n",
      " name           | 1188 Brewing Co      \n",
      " phone          | 5415751188           \n",
      " postal_code    | 97845-1210           \n",
      " state          | Oregon               \n",
      " state_province | Oregon               \n",
      " street         | 141 E Main St        \n",
      " website_url    | http://www.1188br... \n",
      "-RECORD 19-----------------------------\n",
      " address_1      | Unnamed Street       \n",
      " address_2      | Clonmore             \n",
      " address_3      | NULL                 \n",
      " brewery_type   | micro                \n",
      " city           | Killeshin            \n",
      " country        | Ireland              \n",
      " id             | e5f3e72a-fee2-481... \n",
      " latitude       | 52.84930763          \n",
      " longitude      | -6.979343891         \n",
      " name           | 12 Acres Brewing ... \n",
      " phone          | 353599107299         \n",
      " postal_code    | R93 X3X8             \n",
      " state          | Laois                \n",
      " state_province | Laois                \n",
      " street         | Unnamed Street       \n",
      " website_url    | https://12acresbr... \n",
      "only showing top 20 rows\n",
      "\n"
     ]
    }
   ],
   "source": [
    "df_silver.show(vertical=True)"
   ]
  },
  {
   "cell_type": "code",
   "execution_count": 18,
   "metadata": {},
   "outputs": [],
   "source": [
    "df_silver = df_silver.select(col('id'),\n",
    "                             col('name'),\n",
    "                             col('brewery_type'),  \n",
    "                             col('phone'),\n",
    "                             col('country'),\n",
    "                             col('state'),\n",
    "                             col('state_province'),\n",
    "                             col('city'),\n",
    "                             col('postal_code'),\n",
    "                             col('latitude'),\n",
    "                             col('longitude'),\n",
    "                             col('street'),\n",
    "                             col('address_1'),\n",
    "                             col('address_2'),\n",
    "                             col('address_3')\n",
    "                             )"
   ]
  },
  {
   "cell_type": "code",
   "execution_count": 10,
   "metadata": {},
   "outputs": [
    {
     "name": "stdout",
     "output_type": "stream",
     "text": [
      "+--------------------+----------------+------------+-------------+---------------+-------------+----------------------+------------+-------------------+----------------+-----------------+-----------------+-----------------+-----------------+\n",
      "|          id_brewery|    name_brewery|type_brewery|phone_brewery|country_brewery|state_brewery|state_province_brewery|city_brewery|postal_code_brewery|latitude_brewery|longitude_brewery|address_1_brewery|address_2_brewery|address_3_brewery|\n",
      "+--------------------+----------------+------------+-------------+---------------+-------------+----------------------+------------+-------------------+----------------+-----------------+-----------------+-----------------+-----------------+\n",
      "|5128df48-79fc-4f0...|(405) Brewing Co|       micro|   4058160490|  United States|     Oklahoma|              Oklahoma|      Norman|         73069-8224|     35.25738891|     -97.46818222|   1716 Topeka St|             NULL|             NULL|\n",
      "+--------------------+----------------+------------+-------------+---------------+-------------+----------------------+------------+-------------------+----------------+-----------------+-----------------+-----------------+-----------------+\n",
      "only showing top 1 row\n",
      "\n"
     ]
    }
   ],
   "source": [
    "df_silver.show(1)"
   ]
  },
  {
   "cell_type": "code",
   "execution_count": 19,
   "metadata": {},
   "outputs": [],
   "source": [
    "df_silver = df_silver \\\n",
    "    .withColumnRenamed(\"id\", \"id_brewery\") \\\n",
    "    .withColumnRenamed(\"name\", \"name_brewery\") \\\n",
    "    .withColumnRenamed(\"brewery_type\", \"type_brewery\") \\\n",
    "    .withColumnRenamed(\"address_1\", \"address_1_brewery\") \\\n",
    "    .withColumnRenamed(\"address_2\", \"address_2_brewery\") \\\n",
    "    .withColumnRenamed(\"address_3\", \"address_3_brewery\") \\\n",
    "    .withColumnRenamed(\"street\", \"street_brewery\") \\\n",
    "    .withColumnRenamed(\"city\", \"city_brewery\") \\\n",
    "    .withColumnRenamed(\"country\", \"country_brewery\") \\\n",
    "    .withColumnRenamed(\"state\", \"state_brewery\") \\\n",
    "    .withColumnRenamed(\"state_province\", \"state_province_brewery\") \\\n",
    "    .withColumnRenamed(\"phone\", \"phone_brewery\") \\\n",
    "    .withColumnRenamed(\"latitude\", \"latitude_brewery\") \\\n",
    "    .withColumnRenamed(\"longitude\", \"longitude_brewery\") \\\n",
    "    .withColumnRenamed(\"postal_code\", \"postal_code_brewery\")"
   ]
  },
  {
   "cell_type": "code",
   "execution_count": 20,
   "metadata": {},
   "outputs": [],
   "source": [
    "columns_to_check_null = [\n",
    "    'id_brewery',\n",
    "    'name_brewery',\n",
    "    'street_brewery',\n",
    "    'type_brewery',\n",
    "    'phone_brewery',\n",
    "    'country_brewery',\n",
    "    'state_brewery',\n",
    "    'state_province_brewery',\n",
    "    'city_brewery',\n",
    "    'postal_code_brewery',\n",
    "    'latitude_brewery',\n",
    "    'longitude_brewery',\n",
    "    'address_1_brewery',\n",
    "    'address_2_brewery',\n",
    "    'address_3_brewery'\n",
    "]"
   ]
  },
  {
   "cell_type": "code",
   "execution_count": 23,
   "metadata": {},
   "outputs": [],
   "source": [
    "null_counts = []\n",
    "\n",
    "for column in columns_to_check_null:\n",
    "    null_count_expr = sum(when(col(column).isNull(), 1).otherwise(0)).alias(column)\n",
    "    null_counts.append(null_count_expr)\n",
    "\n",
    "null_counts_df = df_silver.select(null_counts)"
   ]
  },
  {
   "cell_type": "code",
   "execution_count": 24,
   "metadata": {},
   "outputs": [
    {
     "name": "stdout",
     "output_type": "stream",
     "text": [
      "-RECORD 0---------------------\n",
      " id_brewery             | 0   \n",
      " name_brewery           | 0   \n",
      " street_brewery         | 3   \n",
      " type_brewery           | 0   \n",
      " phone_brewery          | 5   \n",
      " country_brewery        | 0   \n",
      " state_brewery          | 0   \n",
      " state_province_brewery | 0   \n",
      " city_brewery           | 0   \n",
      " postal_code_brewery    | 0   \n",
      " latitude_brewery       | 10  \n",
      " longitude_brewery      | 10  \n",
      " address_1_brewery      | 3   \n",
      " address_2_brewery      | 49  \n",
      " address_3_brewery      | 50  \n",
      "\n"
     ]
    }
   ],
   "source": [
    "null_counts_df.show(vertical=True)"
   ]
  },
  {
   "cell_type": "code",
   "execution_count": 25,
   "metadata": {},
   "outputs": [
    {
     "name": "stdout",
     "output_type": "stream",
     "text": [
      "+--------------------+--------------------+------------+-------------+---------------+-------------+----------------------+------------+-------------------+----------------+-----------------+--------------------+--------------------+-----------------+-----------------+\n",
      "|          id_brewery|        name_brewery|type_brewery|phone_brewery|country_brewery|state_brewery|state_province_brewery|city_brewery|postal_code_brewery|latitude_brewery|longitude_brewery|      street_brewery|   address_1_brewery|address_2_brewery|address_3_brewery|\n",
      "+--------------------+--------------------+------------+-------------+---------------+-------------+----------------------+------------+-------------------+----------------+-----------------+--------------------+--------------------+-----------------+-----------------+\n",
      "|0faa0fb2-fffa-416...|12 West Brewing C...|       micro|         NULL|  United States|      Arizona|               Arizona|        Mesa|              85207|       33.436188|     -111.5860662|                NULL|                NULL|             NULL|             NULL|\n",
      "|d35b40b0-a3ff-487...|1623 Brewing CO, llc|    contract|         NULL|  United States|     Maryland|              Maryland|Westminister|              21157|            NULL|             NULL|1146 colonel Josh...|1146 colonel Josh...|             NULL|             NULL|\n",
      "|fe6b9893-b93e-43d...|1850 Brewing Company|       micro|         NULL|  United States|   California|            California|    Mariposa|              95338|       37.570148|     -119.9036592|                NULL|                NULL|             NULL|             NULL|\n",
      "|b51f3cdf-60ff-4ae...| 18th Street Brewery|       micro|         NULL|  United States|      Indiana|               Indiana|        Gary|         46403-2871|     41.59928343|     -87.26887786|     5725 Miller Ave|     5725 Miller Ave|             NULL|             NULL|\n",
      "|add7f978-942e-4d5...| 18th Street Brewery|       micro|         NULL|  United States|      Indiana|               Indiana|     Hammond|         46320-1817|     41.61556796|       -87.517422|     5417 Oakley Ave|     5417 Oakley Ave|             NULL|             NULL|\n",
      "+--------------------+--------------------+------------+-------------+---------------+-------------+----------------------+------------+-------------------+----------------+-----------------+--------------------+--------------------+-----------------+-----------------+\n",
      "\n"
     ]
    }
   ],
   "source": [
    "df_silver.filter(col('phone_brewery').isNull()).show()"
   ]
  },
  {
   "cell_type": "code",
   "execution_count": 26,
   "metadata": {},
   "outputs": [
    {
     "name": "stdout",
     "output_type": "stream",
     "text": [
      "+--------------------+--------------------+------------+-------------+---------------+-------------+----------------------+--------------+-------------------+-----------------+------------------+--------------------+--------------------+-----------------+-----------------+\n",
      "|          id_brewery|        name_brewery|type_brewery|phone_brewery|country_brewery|state_brewery|state_province_brewery|  city_brewery|postal_code_brewery| latitude_brewery| longitude_brewery|      street_brewery|   address_1_brewery|address_2_brewery|address_3_brewery|\n",
      "+--------------------+--------------------+------------+-------------+---------------+-------------+----------------------+--------------+-------------------+-----------------+------------------+--------------------+--------------------+-----------------+-----------------+\n",
      "|5128df48-79fc-4f0...|    (405) Brewing Co|       micro|   4058160490|  United States|     Oklahoma|              Oklahoma|        Norman|         73069-8224|      35.25738891|      -97.46818222|      1716 Topeka St|      1716 Topeka St|             NULL|             NULL|\n",
      "|9c5a66c8-cc13-416...|    (512) Brewing Co|       micro|   5129211545|  United States|        Texas|                 Texas|        Austin|         78745-1197|             NULL|              NULL|407 Radam Ln Ste ...|407 Radam Ln Ste ...|             NULL|             NULL|\n",
      "|34e8c68b-6146-453...|1 of Us Brewing C...|       micro|   2624847553|  United States|    Wisconsin|             Wisconsin|Mount Pleasant|         53406-3920|42.72010826899558|-87.88336350209435| 8100 Washington Ave| 8100 Washington Ave|             NULL|             NULL|\n",
      "|ef970757-fe42-416...|10 Barrel Brewing Co|       large|   6195782311|  United States|   California|            California|     San Diego|         92101-6618|        32.714813|       -117.129593|           1501 E St|           1501 E St|             NULL|             NULL|\n",
      "|6d14b220-8926-452...|10 Barrel Brewing Co|       large|   5415851007|  United States|       Oregon|                Oregon|          Bend|         97701-9847|      44.08683531|       -121.281706|       62970 18th St|       62970 18th St|             NULL|             NULL|\n",
      "|e2e78bd8-80ff-4a6...|10 Barrel Brewing Co|       large|   5415851007|  United States|       Oregon|                Oregon|          Bend|         97703-2465|       44.0575649|      -121.3288021|1135 NW Galveston...|1135 NW Galveston...|             NULL|             NULL|\n",
      "|e432899b-7f58-455...|10 Barrel Brewing Co|       large|   5032241700|  United States|       Oregon|                Oregon|      Portland|         97209-2620|       45.5259786|      -122.6855056| 1411 NW Flanders St| 1411 NW Flanders St|             NULL|             NULL|\n",
      "|9f1852da-c312-42d...|10 Barrel Brewing...|       large|   5415851007|  United States|       Oregon|                Oregon|          Bend|              97701|       44.0912109|      -121.2809536|    62950 NE 18th St|    62950 NE 18th St|             NULL|             NULL|\n",
      "|ea4f30c0-bce6-416...|10 Barrel Brewing...|       large|   2083445870|  United States|        Idaho|                 Idaho|         Boise|         83702-5857|        43.618516|       -116.202929|    826 W Bannock St|    826 W Bannock St|             NULL|             NULL|\n",
      "|1988eb86-f0a2-467...|10 Barrel Brewing...|       large|   7205738992|  United States|     Colorado|              Colorado|        Denver|         80205-2231|       39.7592508|      -104.9853655|      2620 Walnut St|      2620 Walnut St|             NULL|             NULL|\n",
      "|1ecc330f-6275-42a...|10 Torr Distillin...|       micro|   7755307014|  United States|       Nevada|                Nevada|          Reno|              89502|       39.5171702|      -119.7732015|         490 Mill St|         490 Mill St|             NULL|             NULL|\n",
      "|7531dbd8-afc9-4b5...|10-56 Brewing Com...|       micro|   6308165790|  United States|      Indiana|               Indiana|          Knox|              46534|        41.289715|        -86.627954|       400 Brown Cir|       400 Brown Cir|             NULL|             NULL|\n",
      "|03118499-a3d0-4c2...|         101 Brewery|     brewpub|   3607656485|  United States|   Washington|            Washington|      Quilcene|         98376-9000|      47.82347577|      -122.8755823|294793 US Highway...|294793 US Highway...|             NULL|             NULL|\n",
      "|5ae467af-66dc-4d7...|101 North Brewing...|      closed|   7077534934|  United States|   California|            California|      Petaluma|         94954-7100|      38.27029381|       -122.665055| 1304 Scott St Ste D| 1304 Scott St Ste D|             NULL|             NULL|\n",
      "|4ffda196-dd59-44a...| 105 West Brewing Co|       micro|   3033257321|  United States|     Colorado|              Colorado|   Castle Rock|         80109-1585|      39.38269495|      -104.8667206|        1043 Park St|        1043 Park St|             NULL|             NULL|\n",
      "|42aa37d5-8384-4ff...|         10K Brewing|       micro|   7633924753|  United States|    Minnesota|             Minnesota|         Anoka|         55303-2243|      45.19812039|      -93.38952559|        2005 2nd Ave|        2005 2nd Ave|             NULL|             NULL|\n",
      "|232e8f62-9afc-45f...|10th District Bre...|       micro|   7813071554|  United States|Massachusetts|         Massachusetts|      Abington|         02351-2419|      42.10591754|      -70.94594149|   491 Washington St|   491 Washington St|             NULL|             NULL|\n",
      "|08f78223-24f8-4b7...|11 Below Brewing ...|       micro|   2814442337|  United States|        Texas|                 Texas|       Houston|         77066-3107|       29.9515464|       -95.5186591|   6820 Bourgeois Rd|   6820 Bourgeois Rd|             NULL|             NULL|\n",
      "|58293321-14ae-49d...|     1188 Brewing Co|     brewpub|   5415751188|  United States|       Oregon|                Oregon|      John Day|         97845-1210|       44.4146563|      -118.9218754|       141 E Main St|       141 E Main St|             NULL|             NULL|\n",
      "|e5f3e72a-fee2-481...|12 Acres Brewing ...|       micro| 353599107299|        Ireland|        Laois|                 Laois|     Killeshin|           R93 X3X8|      52.84930763|      -6.979343891|      Unnamed Street|      Unnamed Street|         Clonmore|             NULL|\n",
      "+--------------------+--------------------+------------+-------------+---------------+-------------+----------------------+--------------+-------------------+-----------------+------------------+--------------------+--------------------+-----------------+-----------------+\n",
      "only showing top 20 rows\n",
      "\n"
     ]
    }
   ],
   "source": [
    "df_silver.filter(col('phone_brewery').isNotNull()).show()"
   ]
  },
  {
   "cell_type": "code",
   "execution_count": 27,
   "metadata": {},
   "outputs": [],
   "source": [
    "df_silver = df_silver.withColumn(\"phone_brewery\", when(col(\"phone_brewery\").isNull(), \"00000000000\").otherwise(col(\"phone_brewery\")))"
   ]
  },
  {
   "cell_type": "code",
   "execution_count": 28,
   "metadata": {},
   "outputs": [
    {
     "name": "stdout",
     "output_type": "stream",
     "text": [
      "+--------------------+--------------------+------------+-------------+---------------+--------------+----------------------+-------------+-------------------+----------------+-----------------+--------------------+--------------------+-----------------+-----------------+\n",
      "|          id_brewery|        name_brewery|type_brewery|phone_brewery|country_brewery| state_brewery|state_province_brewery| city_brewery|postal_code_brewery|latitude_brewery|longitude_brewery|      street_brewery|   address_1_brewery|address_2_brewery|address_3_brewery|\n",
      "+--------------------+--------------------+------------+-------------+---------------+--------------+----------------------+-------------+-------------------+----------------+-----------------+--------------------+--------------------+-----------------+-----------------+\n",
      "|9c5a66c8-cc13-416...|    (512) Brewing Co|       micro|   5129211545|  United States|         Texas|                 Texas|       Austin|         78745-1197|            NULL|             NULL|407 Radam Ln Ste ...|407 Radam Ln Ste ...|             NULL|             NULL|\n",
      "|d81ff708-b5d2-478...|12 Gates Brewing ...|     brewpub|   7169066600|  United States|      New York|              New York|Williamsville|         14221-7804|            NULL|             NULL|80 Earhart Dr Ste 20|80 Earhart Dr Ste 20|             NULL|             NULL|\n",
      "|fb94830f-6196-4f5...|12 West Brewing C...|       micro|   6023395014|  United States|       Arizona|               Arizona|      Gilbert|         85296-7832|            NULL|             NULL|3000 E Ray Rd Bldg 6|3000 E Ray Rd Bldg 6|             NULL|             NULL|\n",
      "|50521ef7-f543-4c5...|12welve Eyes Brewing|       micro|   6514938106|  United States|     Minnesota|             Minnesota|   Saint Paul|         55101-1639|            NULL|             NULL|141 E 4th St Ste LL2|141 E 4th St Ste LL2|             NULL|             NULL|\n",
      "|45119c56-345b-4ad...|  13 Stripes Brewery|     brewpub|   8643491430|  United States|South Carolina|        South Carolina|      Taylors|              29687|            NULL|             NULL|250 Mill St, Suit...|250 Mill St, Suit...|             NULL|             NULL|\n",
      "|5c53b314-ebab-4e3...|          1323 R & D|       micro|   9199775654|  United States|North Carolina|        North Carolina|      Raleigh|         27603-1117|            NULL|             NULL|1323 Capital Blvd...|1323 Capital Blvd...|             NULL|             NULL|\n",
      "|b7b68d22-5045-450...|    14 Lakes Brewery|       micro|   2186924129|  United States|     Minnesota|             Minnesota|    Crosslake|              56442|            NULL|             NULL|                NULL|                NULL|             NULL|             NULL|\n",
      "|6c53984f-fac1-4ea...|   14th Star Brewing|       micro|   8025285988|  United States|       Vermont|               Vermont| Saint Albans|         05478-1735|            NULL|             NULL| 133 N Main St Ste 7| 133 N Main St Ste 7|             NULL|             NULL|\n",
      "|d35b40b0-a3ff-487...|1623 Brewing CO, llc|    contract|  00000000000|  United States|      Maryland|              Maryland| Westminister|              21157|            NULL|             NULL|1146 colonel Josh...|1146 colonel Josh...|             NULL|             NULL|\n",
      "|84d621c4-81a5-44e...|1781 Brewing Company|       micro|   5408412598|  United States|      Virginia|              Virginia| Spotsylvania|         22553-4258|            NULL|             NULL|      11109 Plank Rd|      11109 Plank Rd|             NULL|             NULL|\n",
      "+--------------------+--------------------+------------+-------------+---------------+--------------+----------------------+-------------+-------------------+----------------+-----------------+--------------------+--------------------+-----------------+-----------------+\n",
      "\n"
     ]
    }
   ],
   "source": [
    "df_silver.filter(col('latitude_brewery').isNull()).show()"
   ]
  },
  {
   "cell_type": "code",
   "execution_count": 29,
   "metadata": {},
   "outputs": [
    {
     "name": "stdout",
     "output_type": "stream",
     "text": [
      "+--------------------+--------------------+------------+-------------+---------------+-------------+----------------------+--------------+-------------------+-----------------+------------------+--------------------+--------------------+-----------------+-----------------+\n",
      "|          id_brewery|        name_brewery|type_brewery|phone_brewery|country_brewery|state_brewery|state_province_brewery|  city_brewery|postal_code_brewery| latitude_brewery| longitude_brewery|      street_brewery|   address_1_brewery|address_2_brewery|address_3_brewery|\n",
      "+--------------------+--------------------+------------+-------------+---------------+-------------+----------------------+--------------+-------------------+-----------------+------------------+--------------------+--------------------+-----------------+-----------------+\n",
      "|5128df48-79fc-4f0...|    (405) Brewing Co|       micro|   4058160490|  United States|     Oklahoma|              Oklahoma|        Norman|         73069-8224|      35.25738891|      -97.46818222|      1716 Topeka St|      1716 Topeka St|             NULL|             NULL|\n",
      "|34e8c68b-6146-453...|1 of Us Brewing C...|       micro|   2624847553|  United States|    Wisconsin|             Wisconsin|Mount Pleasant|         53406-3920|42.72010826899558|-87.88336350209435| 8100 Washington Ave| 8100 Washington Ave|             NULL|             NULL|\n",
      "|ef970757-fe42-416...|10 Barrel Brewing Co|       large|   6195782311|  United States|   California|            California|     San Diego|         92101-6618|        32.714813|       -117.129593|           1501 E St|           1501 E St|             NULL|             NULL|\n",
      "|6d14b220-8926-452...|10 Barrel Brewing Co|       large|   5415851007|  United States|       Oregon|                Oregon|          Bend|         97701-9847|      44.08683531|       -121.281706|       62970 18th St|       62970 18th St|             NULL|             NULL|\n",
      "|e2e78bd8-80ff-4a6...|10 Barrel Brewing Co|       large|   5415851007|  United States|       Oregon|                Oregon|          Bend|         97703-2465|       44.0575649|      -121.3288021|1135 NW Galveston...|1135 NW Galveston...|             NULL|             NULL|\n",
      "|e432899b-7f58-455...|10 Barrel Brewing Co|       large|   5032241700|  United States|       Oregon|                Oregon|      Portland|         97209-2620|       45.5259786|      -122.6855056| 1411 NW Flanders St| 1411 NW Flanders St|             NULL|             NULL|\n",
      "|9f1852da-c312-42d...|10 Barrel Brewing...|       large|   5415851007|  United States|       Oregon|                Oregon|          Bend|              97701|       44.0912109|      -121.2809536|    62950 NE 18th St|    62950 NE 18th St|             NULL|             NULL|\n",
      "|ea4f30c0-bce6-416...|10 Barrel Brewing...|       large|   2083445870|  United States|        Idaho|                 Idaho|         Boise|         83702-5857|        43.618516|       -116.202929|    826 W Bannock St|    826 W Bannock St|             NULL|             NULL|\n",
      "|1988eb86-f0a2-467...|10 Barrel Brewing...|       large|   7205738992|  United States|     Colorado|              Colorado|        Denver|         80205-2231|       39.7592508|      -104.9853655|      2620 Walnut St|      2620 Walnut St|             NULL|             NULL|\n",
      "|1ecc330f-6275-42a...|10 Torr Distillin...|       micro|   7755307014|  United States|       Nevada|                Nevada|          Reno|              89502|       39.5171702|      -119.7732015|         490 Mill St|         490 Mill St|             NULL|             NULL|\n",
      "|7531dbd8-afc9-4b5...|10-56 Brewing Com...|       micro|   6308165790|  United States|      Indiana|               Indiana|          Knox|              46534|        41.289715|        -86.627954|       400 Brown Cir|       400 Brown Cir|             NULL|             NULL|\n",
      "|03118499-a3d0-4c2...|         101 Brewery|     brewpub|   3607656485|  United States|   Washington|            Washington|      Quilcene|         98376-9000|      47.82347577|      -122.8755823|294793 US Highway...|294793 US Highway...|             NULL|             NULL|\n",
      "|5ae467af-66dc-4d7...|101 North Brewing...|      closed|   7077534934|  United States|   California|            California|      Petaluma|         94954-7100|      38.27029381|       -122.665055| 1304 Scott St Ste D| 1304 Scott St Ste D|             NULL|             NULL|\n",
      "|4ffda196-dd59-44a...| 105 West Brewing Co|       micro|   3033257321|  United States|     Colorado|              Colorado|   Castle Rock|         80109-1585|      39.38269495|      -104.8667206|        1043 Park St|        1043 Park St|             NULL|             NULL|\n",
      "|42aa37d5-8384-4ff...|         10K Brewing|       micro|   7633924753|  United States|    Minnesota|             Minnesota|         Anoka|         55303-2243|      45.19812039|      -93.38952559|        2005 2nd Ave|        2005 2nd Ave|             NULL|             NULL|\n",
      "|232e8f62-9afc-45f...|10th District Bre...|       micro|   7813071554|  United States|Massachusetts|         Massachusetts|      Abington|         02351-2419|      42.10591754|      -70.94594149|   491 Washington St|   491 Washington St|             NULL|             NULL|\n",
      "|08f78223-24f8-4b7...|11 Below Brewing ...|       micro|   2814442337|  United States|        Texas|                 Texas|       Houston|         77066-3107|       29.9515464|       -95.5186591|   6820 Bourgeois Rd|   6820 Bourgeois Rd|             NULL|             NULL|\n",
      "|58293321-14ae-49d...|     1188 Brewing Co|     brewpub|   5415751188|  United States|       Oregon|                Oregon|      John Day|         97845-1210|       44.4146563|      -118.9218754|       141 E Main St|       141 E Main St|             NULL|             NULL|\n",
      "|e5f3e72a-fee2-481...|12 Acres Brewing ...|       micro| 353599107299|        Ireland|        Laois|                 Laois|     Killeshin|           R93 X3X8|      52.84930763|      -6.979343891|      Unnamed Street|      Unnamed Street|         Clonmore|             NULL|\n",
      "|0faa0fb2-fffa-416...|12 West Brewing C...|       micro|  00000000000|  United States|      Arizona|               Arizona|          Mesa|              85207|        33.436188|      -111.5860662|                NULL|                NULL|             NULL|             NULL|\n",
      "+--------------------+--------------------+------------+-------------+---------------+-------------+----------------------+--------------+-------------------+-----------------+------------------+--------------------+--------------------+-----------------+-----------------+\n",
      "only showing top 20 rows\n",
      "\n"
     ]
    }
   ],
   "source": [
    "df_silver.filter(col('latitude_brewery').isNotNull()).show()"
   ]
  },
  {
   "cell_type": "code",
   "execution_count": 30,
   "metadata": {},
   "outputs": [
    {
     "data": {
      "text/plain": [
       "50"
      ]
     },
     "execution_count": 30,
     "metadata": {},
     "output_type": "execute_result"
    }
   ],
   "source": [
    "df_silver.count()"
   ]
  },
  {
   "cell_type": "code",
   "execution_count": 31,
   "metadata": {},
   "outputs": [],
   "source": [
    "# if df_silver.filter(df_silver.name_state.isNull()).count() >= 1 or df_silver.filter(df_silver.brewery_type.isNull()).count() >= 1:\n",
    "#     print(\"has null values\")\n",
    "#     sys.exit()\n",
    "# else:\n",
    "#     print(\"has no null values\")"
   ]
  },
  {
   "cell_type": "code",
   "execution_count": 32,
   "metadata": {},
   "outputs": [],
   "source": [
    "#Add column for CDC control\n",
    "df_silver = df_silver.withColumn(\"updated_at\", date_format(current_timestamp(), \"yyyy-MM-dd HH:mm:ss\"))"
   ]
  },
  {
   "cell_type": "code",
   "execution_count": 33,
   "metadata": {},
   "outputs": [
    {
     "name": "stdout",
     "output_type": "stream",
     "text": [
      "-RECORD 0------------------------------------------------------\n",
      " id_brewery             | 5128df48-79fc-4f0f-8b52-d06be54d0cec \n",
      " name_brewery           | (405) Brewing Co                     \n",
      " type_brewery           | micro                                \n",
      " phone_brewery          | 4058160490                           \n",
      " country_brewery        | United States                        \n",
      " state_brewery          | Oklahoma                             \n",
      " state_province_brewery | Oklahoma                             \n",
      " city_brewery           | Norman                               \n",
      " postal_code_brewery    | 73069-8224                           \n",
      " latitude_brewery       | 35.25738891                          \n",
      " longitude_brewery      | -97.46818222                         \n",
      " street_brewery         | 1716 Topeka St                       \n",
      " address_1_brewery      | 1716 Topeka St                       \n",
      " address_2_brewery      | NULL                                 \n",
      " address_3_brewery      | NULL                                 \n",
      " updated_at             | 2024-10-19 03:35:53                  \n",
      "only showing top 1 row\n",
      "\n"
     ]
    }
   ],
   "source": [
    "df_silver.show(1,vertical=True,truncate=False)"
   ]
  },
  {
   "cell_type": "code",
   "execution_count": 34,
   "metadata": {},
   "outputs": [],
   "source": [
    "today = date.today()"
   ]
  },
  {
   "cell_type": "code",
   "execution_count": 36,
   "metadata": {},
   "outputs": [
    {
     "name": "stderr",
     "output_type": "stream",
     "text": [
      "                                                                                \r"
     ]
    }
   ],
   "source": [
    "#Writing DataFrame\n",
    "df_silver.write \\\n",
    ".format(\"parquet\") \\\n",
    ".mode(\"append\") \\\n",
    ".partitionBy(\"state_brewery\") \\\n",
    ".option(\"mergeSchema\", \"true\") \\\n",
    ".save(f'/opt/airflow/silver/')"
   ]
  },
  {
   "cell_type": "code",
   "execution_count": null,
   "metadata": {},
   "outputs": [],
   "source": []
  }
 ],
 "metadata": {
  "kernelspec": {
   "display_name": "Python 3 (ipykernel)",
   "language": "python",
   "name": "python3"
  }
 },
 "nbformat": 4,
 "nbformat_minor": 2
}
