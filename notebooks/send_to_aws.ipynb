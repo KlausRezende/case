{
 "cells": [
  {
   "cell_type": "code",
   "execution_count": 4,
   "metadata": {},
   "outputs": [],
   "source": [
    "import sys\n",
    "from pyspark.sql import SparkSession\n",
    "from pyspark.sql.functions import *\n",
    "from pyspark.sql.window import *\n",
    "from datetime import date, timedelta"
   ]
  },
  {
   "cell_type": "code",
   "execution_count": 26,
   "metadata": {},
   "outputs": [
    {
     "name": "stdout",
     "output_type": "stream",
     "text": [
      "Percentual de validações bem-sucedidas: 60.00%\n",
      "<class 'float'>\n",
      "60.0\n",
      "invalido\n"
     ]
    }
   ],
   "source": [
    "def validate_percentage():\n",
    "    # Abre o arquivo e lê todas as linhas\n",
    "    with open('/opt/airflow/notebooks/validation_results.txt', 'r') as file:\n",
    "        lines = file.readlines()  # Lê todas as linhas do arquivo\n",
    "        last_line = lines[-1].strip()  # Pega a última linha e remove espaços\n",
    "        print(last_line)\n",
    "\n",
    "    # Verifica se a última linha contém o texto esperado\n",
    "    if \"Percentual de validações bem-sucedidas:\" in last_line:\n",
    "        # Pega apenas o valor numérico da linha e converte para float\n",
    "        percentage_str = last_line.split(\":\")[1].strip().replace('%', '')\n",
    "        percentage = float(percentage_str)\n",
    "        print(type(percentage))\n",
    "        print(percentage)\n",
    "        # Verifica se o valor está abaixo de 60.0%\n",
    "        if percentage > 80.00:\n",
    "            return 'valido'\n",
    "        else:\n",
    "            return 'invalido'\n",
    "# Exemplo de uso:\n",
    "resultado = validate_percentage()\n",
    "print(resultado)"
   ]
  },
  {
   "cell_type": "code",
   "execution_count": 9,
   "metadata": {},
   "outputs": [
    {
     "data": {
      "text/plain": [
       "<function __main__.validate_percentage()>"
      ]
     },
     "execution_count": 9,
     "metadata": {},
     "output_type": "execute_result"
    }
   ],
   "source": [
    "validate_percentage"
   ]
  },
  {
   "cell_type": "code",
   "execution_count": null,
   "metadata": {},
   "outputs": [],
   "source": []
  }
 ],
 "metadata": {
  "kernelspec": {
   "display_name": "Python 3 (ipykernel)",
   "language": "python",
   "name": "python3"
  },
  "language_info": {
   "codemirror_mode": {
    "name": "ipython",
    "version": 3
   },
   "file_extension": ".py",
   "mimetype": "text/x-python",
   "name": "python",
   "nbconvert_exporter": "python",
   "pygments_lexer": "ipython3",
   "version": "3.9.20"
  }
 },
 "nbformat": 4,
 "nbformat_minor": 2
}
